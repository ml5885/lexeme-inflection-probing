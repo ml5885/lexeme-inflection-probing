{
 "cells": [
  {
   "cell_type": "code",
   "execution_count": 8,
   "id": "504b2833",
   "metadata": {},
   "outputs": [],
   "source": [
    "import torch\n",
    "import torch.nn.functional as F\n",
    "from transformers import GPT2Tokenizer, GPT2Model\n",
    "\n",
    "def load_model_and_embeddings(model_name=\"gpt2\"):\n",
    "    \"\"\"\n",
    "    Load a GPT-2 model and return its tokenizer and embedding matrix.\n",
    "    \"\"\"\n",
    "    tokenizer = GPT2Tokenizer.from_pretrained(model_name)\n",
    "    model = GPT2Model.from_pretrained(model_name)\n",
    "    # Safely get the input-embedding layer:\n",
    "    emb_layer = model.get_input_embeddings()   # nn.Embedding\n",
    "    embeddings = emb_layer.weight.data         # Tensor of shape (vocab_size, emb_dim)\n",
    "    return tokenizer, embeddings\n",
    "\n",
    "def get_embedding(tokenizer, embeddings, word):\n",
    "    \"\"\"\n",
    "    Return the embedding vector for a given single word.\n",
    "    Splits on tokenizer tokens and averages if multiple tokens.\n",
    "    \"\"\"\n",
    "    # add_prefix_space ensures subword tokens line up properly\n",
    "    toks = tokenizer.encode(word, add_prefix_space=True, add_special_tokens=False)\n",
    "    vecs = embeddings[toks]  # (n_subtokens, emb_dim)\n",
    "    return vecs.mean(dim=0)\n",
    "\n",
    "def find_closest(embeddings, query_vec, tokenizer, top_k=5):\n",
    "    \"\"\"\n",
    "    Find the top_k nearest valid word tokens to the query vector.\n",
    "    \"\"\"\n",
    "    emb_norm = F.normalize(embeddings, dim=1)\n",
    "    q_norm   = F.normalize(query_vec.unsqueeze(0), dim=1)\n",
    "    # cosine sim across vocab\n",
    "    sims = torch.mm(q_norm, emb_norm.t()).squeeze(0)\n",
    "    vals, idxs = torch.topk(sims, top_k + 20)  # a buffer for filtering\n",
    "    results = []\n",
    "    for score, idx in zip(vals.tolist(), idxs.tolist()):\n",
    "        token = tokenizer.decode([idx]).strip()\n",
    "        # filter out punctuation, empty strings, numerals, etc.\n",
    "        if token.isalpha():\n",
    "            results.append((token, score))\n",
    "        if len(results) >= top_k:\n",
    "            break\n",
    "    return results\n",
    "\n",
    "def analogy(tokenizer, embeddings, a, b, c, top_k=5):\n",
    "    \"\"\"\n",
    "    Compute embedding[a] + embedding[b] - embedding[c], then return nearest tokens.\n",
    "    \"\"\"\n",
    "    ea = get_embedding(tokenizer, embeddings, a)\n",
    "    eb = get_embedding(tokenizer, embeddings, b)\n",
    "    ec = get_embedding(tokenizer, embeddings, c)\n",
    "    query = ea - eb + ec\n",
    "    return find_closest(embeddings, query, tokenizer, top_k)"
   ]
  },
  {
   "cell_type": "code",
   "execution_count": 4,
   "id": "4b2c00a8",
   "metadata": {},
   "outputs": [],
   "source": [
    "tokenizer, embeddings = load_model_and_embeddings()"
   ]
  },
  {
   "cell_type": "code",
   "execution_count": 35,
   "id": "0f5a7c57",
   "metadata": {},
   "outputs": [
    {
     "name": "stdout",
     "output_type": "stream",
     "text": [
      "\n",
      "Analogy: king - man + woman\n",
      "king(0.7758), queen(0.7085), princess(0.6046), Queen(0.5964), kings(0.5932)\n",
      "\n",
      "Analogy: man - king + queen\n",
      "man(0.6716), woman(0.6622), queen(0.5638), lady(0.4987), girl(0.4858)\n",
      "\n",
      "Analogy: walked - walk + jump\n",
      "jumped(0.7761), jump(0.7684), leapt(0.6663), jumps(0.6522), jump(0.6062)\n",
      "\n",
      "Analogy: go - went + run\n",
      "run(0.8232), go(0.5364), Run(0.5148), run(0.4910), runs(0.4873)\n",
      "\n",
      "Analogy: sang - sing + ring\n",
      "ring(0.7596), rings(0.6185), Ring(0.5679), sang(0.5266), rang(0.5237)\n",
      "\n",
      "Analogy: sing - sang + rang\n",
      "rang(0.7107), sing(0.5251), ringing(0.4633), ring(0.4274), rings(0.4176)\n"
     ]
    }
   ],
   "source": [
    "tests = [\n",
    "    (\"king\", \"man\", \"woman\"),\n",
    "    (\"man\", \"king\", \"queen\"),\n",
    "    (\"walked\", \"walk\", \"jump\"),\n",
    "    (\"go\", \"went\", \"run\"),\n",
    "    (\"sang\", \"sing\", \"ring\"),\n",
    "    (\"sing\", \"sang\", \"rang\"),\n",
    "]\n",
    "\n",
    "for a, b, c in tests:\n",
    "    print(f\"\\nAnalogy: {a} - {b} + {c}\")\n",
    "    print(\", \".join([f\"{tok}({sim:.4f})\" for tok, sim in analogy(tokenizer, embeddings, a, b, c, top_k=5)]))"
   ]
  }
 ],
 "metadata": {
  "kernelspec": {
   "display_name": "venv",
   "language": "python",
   "name": "python3"
  },
  "language_info": {
   "codemirror_mode": {
    "name": "ipython",
    "version": 3
   },
   "file_extension": ".py",
   "mimetype": "text/x-python",
   "name": "python",
   "nbconvert_exporter": "python",
   "pygments_lexer": "ipython3",
   "version": "3.10.8"
  }
 },
 "nbformat": 4,
 "nbformat_minor": 5
}
